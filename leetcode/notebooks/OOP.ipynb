{
 "cells": [
  {
   "cell_type": "markdown",
   "metadata": {},
   "source": [
    "# Object Oriented Programming\n",
    "\n",
    "Reference Article- https://towardsdatascience.com/object-orientated-programming-with-python-everything-you-need-to-know-cb0ada963756\n",
    "\n",
    "\n",
    "<BR>\n",
    "\n",
    "\n",
    "Notes: \n",
    "- Classes are essentially a user defined datatype, one example of a great custom datatype being the class of Numpy `Array` or Pandas `Dataframe` -- these differ from the built-in datatypes (lists, dicts, etc) and offer additional functionality in the hopes of providing support for task specific requirements (Pandas frame need tabular view, PyTorch Model might need to be able to be saved in a certain way, i.e a method it has)\n",
    "- When instantiating a new class, the naming convention is typically UpperCase\n",
    "\n"
   ]
  },
  {
   "cell_type": "markdown",
   "metadata": {},
   "source": [
    "## Base Class Definition & Constructor "
   ]
  },
  {
   "cell_type": "code",
   "execution_count": 2,
   "metadata": {},
   "outputs": [
    {
     "name": "stdout",
     "output_type": "stream",
     "text": [
      "<__main__.SpaceShip object at 0x7f3256f898e0>\n"
     ]
    }
   ],
   "source": [
    "# Toy Spaceship Class\n",
    "class SpaceShip:\n",
    "    pass\n",
    "\n",
    "millenium_falcon = SpaceShip()\n",
    "print(millenium_falcon) #this returns what it is, a \"SpaceShip\" object!"
   ]
  },
  {
   "cell_type": "markdown",
   "metadata": {},
   "source": [
    "The odd value printed above is the \"Memory Address\" of the millenium_falcon object on the Computer?\n",
    "\n",
    "To actually make the Class useful, we need to add stuff to it with a \"Constructor\", this populates the possible values a class can take when we create an instance of it -- For example, if we create a new instance of SpaceShip, how many seats will this new ship have?\n",
    "\n",
    "The words \"Constructor\" and \"Initializer\" can be used interchangably when talking about a Class in Python, these both refer to the __init__() method, called immediately after creating a new object of a class type."
   ]
  },
  {
   "cell_type": "code",
   "execution_count": 3,
   "metadata": {},
   "outputs": [
    {
     "name": "stdout",
     "output_type": "stream",
     "text": [
      "<__main__.SpaceShip object at 0x7f32563e3160>\n"
     ]
    }
   ],
   "source": [
    "# Adding an Constructor\n",
    "class SpaceShip:\n",
    "    def __init__(self, ship_type, lightspeed, blasters, seat_num):\n",
    "        # Upon instantiating a new object as a \"SpaceShip\" we need fill in properties for this new datatype!\n",
    "        self.ship_type = ship_type\n",
    "        self.lightspeed = lightspeed\n",
    "        self.blasters = blasters\n",
    "        self.seat_num = seat_num\n",
    "\n",
    "\n",
    "# Instantiating an Instance of Millenium_Falcon with properties specified\n",
    "millenium_falcon = SpaceShip(ship_type=\"Transport\", lightspeed=True, blasters=2, seat_num=8)\n",
    "print(millenium_falcon)\n"
   ]
  },
  {
   "cell_type": "markdown",
   "metadata": {},
   "source": [
    "The usage of `self` in the __init()__ method is to define what possible attributes are usable for the class, a spaceship may or may not have blasters, it will have a specific number of seats, it may be a transport or fighter, etc. -- These values need to all be defined at start time by passing in the values to the instantiation function for the new class (second block of code in above)"
   ]
  },
  {
   "cell_type": "code",
   "execution_count": 4,
   "metadata": {},
   "outputs": [
    {
     "ename": "TypeError",
     "evalue": "__init__() missing 1 required positional argument: 'ship_type'",
     "output_type": "error",
     "traceback": [
      "\u001b[0;31m---------------------------------------------------------------------------\u001b[0m",
      "\u001b[0;31mTypeError\u001b[0m                                 Traceback (most recent call last)",
      "\u001b[0;32m/tmp/ipykernel_6255/1007729762.py\u001b[0m in \u001b[0;36m<module>\u001b[0;34m\u001b[0m\n\u001b[0;32m----> 1\u001b[0;31m \u001b[0mx_wing\u001b[0m \u001b[0;34m=\u001b[0m \u001b[0mSpaceShip\u001b[0m\u001b[0;34m(\u001b[0m \u001b[0mlightspeed\u001b[0m\u001b[0;34m=\u001b[0m\u001b[0;32mTrue\u001b[0m\u001b[0;34m,\u001b[0m \u001b[0mblasters\u001b[0m\u001b[0;34m=\u001b[0m\u001b[0;36m2\u001b[0m\u001b[0;34m,\u001b[0m \u001b[0mseat_num\u001b[0m\u001b[0;34m=\u001b[0m\u001b[0;36m8\u001b[0m\u001b[0;34m)\u001b[0m\u001b[0;34m\u001b[0m\u001b[0;34m\u001b[0m\u001b[0m\n\u001b[0m",
      "\u001b[0;31mTypeError\u001b[0m: __init__() missing 1 required positional argument: 'ship_type'"
     ]
    }
   ],
   "source": [
    "x_wing = SpaceShip( lightspeed=True, blasters=2, seat_num=8)"
   ]
  },
  {
   "cell_type": "markdown",
   "metadata": {},
   "source": [
    "if we try to create an object without one of the REQUIRED values to define that class, it will throw an error asking for that attribute!\n",
    "\n",
    "\n",
    "<BR>\n",
    "\n",
    "\n",
    "## Class Methods\n",
    "\n",
    "Functions that are defined on a specific class are referred to as Methods, these come in a few flavours with each serving a specific function -- Pun Intended\n",
    "\n",
    "- Regular Methods: created the same way we would define a regular function (def(self, x, y) -- but this time it is inside of the class definition and takes the LOCALLY defined variables as input!) these variables are accessible with the self argument that must be the first passed item to the new regular function definition\n",
    "\n",
    "- Static Methods: can be used on an object that is not a member of our defined class, in addition to the regular syntax for defining a function we also add a decorator to the top of the function definition (@staticmethod) -- these are typically used as utility functions\n",
    "\n",
    "- Private Methods: essentially the same as regular methods, but with the distinction of having and underscore before the method name. (`def _spell()` as opposed to `def spell()`) -- in other programming languages a private method makes the function unaccessible outside of the class but in Python these generally are used to tell other developers not to fuck with this method as it might break\n",
    "\n",
    "- Special Methods: These modify the behavior of the original class and can be used to make the class operate differently in Python (print some metadata about the class, work with len() or other functions, etc.)"
   ]
  },
  {
   "cell_type": "code",
   "execution_count": 12,
   "metadata": {},
   "outputs": [
    {
     "name": "stdout",
     "output_type": "stream",
     "text": [
      "The Millenium Falcon is a Transport that Seats 8.\n",
      "Millenium Falcon is Powering On!\n",
      "Powering Off!\n",
      "private method -- don't look for Narwhals!\n"
     ]
    }
   ],
   "source": [
    "# Define all 4 of Above Functions\n",
    "class SpaceShip:\n",
    "    def __init__(self, name, ship_type, lightspeed, blasters, seat_num):\n",
    "        # Upon instantiating a new object as a \"SpaceShip\" we need fill in properties for this new datatype!\n",
    "        self.name = name\n",
    "        self.ship_type = ship_type\n",
    "        self.lightspeed = lightspeed\n",
    "        self.blasters = blasters\n",
    "        self.seat_num = seat_num\n",
    "\n",
    "    # Regular Method\n",
    "    def start(self):\n",
    "        return f\"{self.name} is Powering On!\"\n",
    "\n",
    "    # Static Method -- uses the decorator\n",
    "    @staticmethod\n",
    "    def stop(): #static methods do not require the passing in of self! \n",
    "        return \"Powering Off!\"\n",
    "\n",
    "    # Private Method\n",
    "    def _hiddensecret(self):\n",
    "        return \"private method -- don't look for Narwhals!\"\n",
    "\n",
    "    # Special Method\n",
    "    def __str__(self):\n",
    "        return f\"The {self.name} is a {self.ship_type} that Seats {self.seat_num}.\"\n",
    "\n",
    "    __repr__ = __str__ #__repr__ defines the string representation of a class (in this case the above line!)\n",
    "\n",
    "\n",
    "# Instantiating an Instance of Millenium_Falcon with properties specified\n",
    "mf = SpaceShip(name=\"Millenium Falcon\", ship_type=\"Transport\", lightspeed=True, blasters=2, seat_num=8)\n",
    "\n",
    "\n",
    "# Access defined methods!\n",
    "print(mf) #references '__str__' and '__repr__'\n",
    "print(mf.start())\n",
    "print(mf.stop())\n",
    "print(mf._hiddensecret())"
   ]
  },
  {
   "cell_type": "markdown",
   "metadata": {},
   "source": [
    "## Inheritance \n",
    "\n",
    "Basically this pillar of OOP allows for one class to \"inherit\" the methods and attributes of another -- for spaceships this means that a \"Fighter\" class object can also be a \"SpaceShip\" object, and can run the methods from both the `Parent` & `Child` classes (Parent being the original class that the object was and the child class being the subclass that the object also happens to be in -- a Child Class will inherit the methods and attributes of a Parent Class, a one-way transaction)"
   ]
  },
  {
   "cell_type": "code",
   "execution_count": 23,
   "metadata": {},
   "outputs": [
    {
     "name": "stdout",
     "output_type": "stream",
     "text": [
      "Poe Dameron is a Fighter!\n",
      "Poe Dameron is Powering On!\n",
      "Powering Off!\n"
     ]
    },
    {
     "data": {
      "text/plain": [
       "'Luke does not have Blasters, not a Fighter!'"
      ]
     },
     "execution_count": 23,
     "metadata": {},
     "output_type": "execute_result"
    }
   ],
   "source": [
    "# Child Class for SpaceShip -- With \"Super\" method \n",
    "class Fighter(SpaceShip):\n",
    "    def __init__(self, name, lightspeed, blasters, seat_num):\n",
    "        super().__init__(name, ship_type=\"Fighter\", lightspeed=lightspeed, blasters=blasters, seat_num=seat_num) #fetches all Parent Class Attributes!\n",
    "                                #`ship_type` is automatically specified as Fighter for all objects instantiated as a Fighter! \n",
    "                                # the param `ship_type` is then removed from the __init__ func call as a var, since it is held constant for all new objects in this fighter class\n",
    "    def isFighter(self):\n",
    "        if self.blasters: #need point to self before accessing the blasters attribute!\n",
    "            return f\"{self.name} is a Fighter!\"\n",
    "        else:\n",
    "            return f\"{self.name} does not have Blasters, not a Fighter!\"\n",
    "\n",
    "\n",
    "# Create a Fighter Object\n",
    "x_wing = Fighter(\"Poe Dameron\", lightspeed=True, blasters=4, seat_num=1.5)\n",
    "print(x_wing.isFighter())\n",
    "print(x_wing.start())\n",
    "print(x_wing.stop())\n",
    "\n",
    "\n",
    "# Determine if no blaster craft is fighter\n",
    "shitty_x_wing = Fighter(\"Luke\", lightspeed=True, blasters=0, seat_num=1.5)\n",
    "shitty_x_wing.isFighter() #is not a fighter since no blasters!"
   ]
  },
  {
   "cell_type": "markdown",
   "metadata": {},
   "source": [
    "Using the super method in the `__init__()` constructor function allows us to access ALL of the Methods and Attributes of the Original Class (if we did not use the super method we could only access the items in the sub-class -- since the Parent Class items are not directly pointed to the Child Class, or rather the child class has not instantiated the same Properties that the Parent Class has)"
   ]
  },
  {
   "cell_type": "code",
   "execution_count": null,
   "metadata": {},
   "outputs": [],
   "source": []
  },
  {
   "cell_type": "code",
   "execution_count": null,
   "metadata": {},
   "outputs": [],
   "source": []
  }
 ],
 "metadata": {
  "interpreter": {
   "hash": "b4e3eb0aeda4c7a20d7cd2942af8b3608ab6e0858d57379df6f8c1e2d52c9f57"
  },
  "kernelspec": {
   "display_name": "Python 3.9.5 64-bit ('base': conda)",
   "language": "python",
   "name": "python3"
  },
  "language_info": {
   "codemirror_mode": {
    "name": "ipython",
    "version": 3
   },
   "file_extension": ".py",
   "mimetype": "text/x-python",
   "name": "python",
   "nbconvert_exporter": "python",
   "pygments_lexer": "ipython3",
   "version": "3.9.5"
  },
  "orig_nbformat": 4
 },
 "nbformat": 4,
 "nbformat_minor": 2
}
